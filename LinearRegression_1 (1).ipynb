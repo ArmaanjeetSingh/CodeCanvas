{
 "cells": [
  {
   "cell_type": "code",
   "execution_count": 2,
   "id": "853bcacc-e1c2-4fbd-b804-b310ed694069",
   "metadata": {},
   "outputs": [
    {
     "name": "stdout",
     "output_type": "stream",
     "text": [
      "Intercept\n",
      " 1302.2222222222251\n",
      "Coeffecients\n",
      " [84.44444444 -2.22222222]\n"
     ]
    },
    {
     "name": "stderr",
     "output_type": "stream",
     "text": [
      "No artists with labels found to put in legend.  Note that artists whose label start with an underscore are ignored when legend() is called with no argument.\n",
      "No artists with labels found to put in legend.  Note that artists whose label start with an underscore are ignored when legend() is called with no argument.\n",
      "C:\\Users\\armaa\\anaconda3\\Lib\\site-packages\\sklearn\\base.py:439: UserWarning: X does not have valid feature names, but LinearRegression was fitted with feature names\n",
      "  warnings.warn(\n"
     ]
    }
   ],
   "source": [
    "from pandas import DataFrame\n",
    "from sklearn import linear_model\n",
    "import tkinter as tk\n",
    "import matplotlib.pyplot as plt\n",
    "from matplotlib.backends.backend_tkagg import FigureCanvasTkAgg\n",
    "\n",
    "Stock_Market={'Year':[2019, 2019, 2019, 2019, 2019],\n",
    "              'Month':[1, 2, 3, 4, 5],\n",
    "              'Interest_rate':[2.5, 2.7, 2.8, 3.0, 3.2],\n",
    "              'Unemployment_Rate':[5.0, 4.8, 4.5, 4.3, 4.0],\n",
    "              'Stock_Index_Price':[1500, 1520, 1530, 1550, 1560]\n",
    "              }\n",
    "df=DataFrame(Stock_Market,columns=['Year','Month','Interest_rate','Unemployment_Rate','Stock_Index_Price'])\n",
    "X=df[['Interest_rate','Unemployment_Rate']].astype(float)\n",
    "Y=df['Stock_Index_Price'].astype(float)\n",
    "regr=linear_model.LinearRegression()\n",
    "regr.fit(X,Y)\n",
    "print('Intercept\\n',regr.intercept_)\n",
    "print('Coeffecients\\n',regr.coef_)\n",
    "\n",
    "root=tk.Tk()\n",
    "canvas1=tk.Canvas(root,width=500,height=300)\n",
    "canvas1.pack()\n",
    "\n",
    "Intercept_result={'Intercept':regr.intercept_}\n",
    "label_Intercept=tk.Label(root,text=Intercept_result,justify='center')\n",
    "canvas1.create_window(260,220,window=label_Intercept)\n",
    "\n",
    "Coeffecients_result=('Coeffecients :',regr.coef_)\n",
    "label_Coeffecients=tk.Label(root,text=Coeffecients_result,justify='center')\n",
    "canvas1.create_window(260,240,window=label_Coeffecients)\n",
    "\n",
    "label1=tk.Label(root,text='Type Interest Rate : ' )\n",
    "canvas1.create_window(100,100,window=label1)\n",
    "entry1=tk.Entry(root)\n",
    "canvas1.create_window(270,100,window=entry1)\n",
    "\n",
    "label2=tk.Label(root,text='Type Unemployment Rate : ')\n",
    "canvas1.create_window(100,120,window=label2)\n",
    "entry2=tk.Entry(root)\n",
    "canvas1.create_window(270,120,window=entry2)\n",
    "\n",
    "def values():\n",
    "    New_Interest_Rate=float(entry1.get())\n",
    "    New_Unemployment_Rate=float(entry2.get())\n",
    "    Prediction_result=('Predicted Stock Price :',regr.predict([[New_Interest_Rate,New_Unemployment_Rate]]))\n",
    "    label_Prediction=tk.Label(root,text=Prediction_result,bg='orange')\n",
    "    canvas1.create_window(260,280,window=label_Prediction)\n",
    "\n",
    "button1=tk.Button(root,text='Predict Stock Index Price',command=values,bg='orange')\n",
    "canvas1.create_window(270,150,window=button1)\n",
    "\n",
    "figure3=plt.Figure(figsize=(5,4),dpi=100)\n",
    "ax3=figure3.add_subplot(111)\n",
    "ax3.scatter(df['Interest_rate'].astype(float),df['Stock_Index_Price'].astype(float),color='r')\n",
    "scatter3=FigureCanvasTkAgg(figure3,root)\n",
    "scatter3.get_tk_widget().pack(side=tk.RIGHT,fill=tk.BOTH)\n",
    "ax3.legend()\n",
    "ax3.set_xlabel('Interest Rate')\n",
    "ax3.set_title('Interest rate Vs. Stock Index Price')\n",
    "\n",
    "figure4=plt.Figure(figsize=(5,4),dpi=100)\n",
    "ax4=figure4.add_subplot(111)\n",
    "ax4.scatter(df['Unemployment_Rate'].astype(float),df['Stock_Index_Price'].astype(float),color='g')\n",
    "scatter4=FigureCanvasTkAgg(figure4,root)\n",
    "scatter4.get_tk_widget().pack(side=tk.RIGHT,fill=tk.BOTH)\n",
    "ax4.legend()\n",
    "ax4.set_xlabel('Unemployment Rate')\n",
    "ax4.set_title('Unemployment Rate vs Stock Price Index')\n",
    "\n",
    "root.mainloop()\n"
   ]
  },
  {
   "cell_type": "code",
   "execution_count": null,
   "id": "5388fe4b-e9f0-4756-bb9c-f668bf21e348",
   "metadata": {},
   "outputs": [],
   "source": []
  },
  {
   "cell_type": "code",
   "execution_count": null,
   "id": "be9f4279-9566-4169-b626-a30586ab3536",
   "metadata": {},
   "outputs": [],
   "source": []
  }
 ],
 "metadata": {
  "kernelspec": {
   "display_name": "Python 3 (ipykernel)",
   "language": "python",
   "name": "python3"
  },
  "language_info": {
   "codemirror_mode": {
    "name": "ipython",
    "version": 3
   },
   "file_extension": ".py",
   "mimetype": "text/x-python",
   "name": "python",
   "nbconvert_exporter": "python",
   "pygments_lexer": "ipython3",
   "version": "3.11.7"
  }
 },
 "nbformat": 4,
 "nbformat_minor": 5
}
